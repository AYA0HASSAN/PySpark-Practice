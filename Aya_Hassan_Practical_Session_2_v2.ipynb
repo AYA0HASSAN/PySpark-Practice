{
  "cells": [
    {
      "cell_type": "markdown",
      "metadata": {
        "id": "x76t7_QU0dYw"
      },
      "source": [
        "# Lab 2 PySpark:\n",
        "\n",
        "### Machine Learning"
      ]
    },
    {
      "cell_type": "markdown",
      "metadata": {
        "id": "BrBbhjZH0dY2"
      },
      "source": [
        "#### But first, let's do some SQL :)"
      ]
    },
    {
      "cell_type": "markdown",
      "metadata": {
        "id": "ltNZa75q0dY2"
      },
      "source": [
        "**First, install and import PySPark and SparkSession**"
      ]
    },
    {
      "cell_type": "code",
      "execution_count": 1,
      "metadata": {
        "colab": {
          "base_uri": "https://localhost:8080/"
        },
        "id": "bU9PtUhH0dY3",
        "outputId": "70896b2c-22d5-41e5-a142-d61d2150fdc3"
      },
      "outputs": [
        {
          "output_type": "stream",
          "name": "stdout",
          "text": [
            "Looking in indexes: https://pypi.org/simple, https://us-python.pkg.dev/colab-wheels/public/simple/\n",
            "Requirement already satisfied: pyspark in /usr/local/lib/python3.7/dist-packages (3.2.1)\n",
            "Requirement already satisfied: py4j==0.10.9.3 in /usr/local/lib/python3.7/dist-packages (from pyspark) (0.10.9.3)\n"
          ]
        }
      ],
      "source": [
        "! pip install pyspark"
      ]
    },
    {
      "cell_type": "code",
      "execution_count": 2,
      "metadata": {
        "id": "_C5Hqufz0dY4"
      },
      "outputs": [],
      "source": [
        "from pyspark.sql import SparkSession\n",
        "from pyspark import SparkContext\n",
        "from pyspark.sql.functions import *\n"
      ]
    },
    {
      "cell_type": "markdown",
      "metadata": {
        "id": "enF4Alip0dY4"
      },
      "source": [
        "**Now, download the dataset**"
      ]
    },
    {
      "cell_type": "code",
      "execution_count": 3,
      "metadata": {
        "colab": {
          "base_uri": "https://localhost:8080/"
        },
        "id": "QVkkngl00dY5",
        "outputId": "15d8b9b7-83d2-4267-c2ed-23b3c810951d"
      },
      "outputs": [
        {
          "output_type": "stream",
          "name": "stdout",
          "text": [
            "Downloading...\n",
            "From: https://drive.google.com/uc?id=1PB6wBDVTM_eocxOyi0lWlLBQOlH0rLe_\n",
            "To: /content/PatientInfo.csv\n",
            "\r  0% 0.00/489k [00:00<?, ?B/s]\r100% 489k/489k [00:00<00:00, 107MB/s]\n"
          ]
        }
      ],
      "source": [
        "!gdown https://drive.google.com/uc?id=1PB6wBDVTM_eocxOyi0lWlLBQOlH0rLe_ -O PatientInfo.csv"
      ]
    },
    {
      "cell_type": "markdown",
      "metadata": {
        "id": "O1ejmE7Q0dY6"
      },
      "source": [
        "**Create a SparkSession object and name the app \"Lab2\"**"
      ]
    },
    {
      "cell_type": "code",
      "execution_count": 4,
      "metadata": {
        "colab": {
          "base_uri": "https://localhost:8080/"
        },
        "id": "WgZC13O50dY7",
        "outputId": "22a8910b-9e09-4893-c24c-a04c90ed73c0"
      },
      "outputs": [
        {
          "output_type": "stream",
          "name": "stderr",
          "text": [
            "/usr/local/lib/python3.7/dist-packages/pyspark/sql/context.py:79: FutureWarning: Deprecated in 3.0.0. Use SparkSession.builder.getOrCreate() instead.\n",
            "  FutureWarning\n"
          ]
        }
      ],
      "source": [
        "sc = SparkContext()\n",
        "# spark = SparkSession.builder.appName(\"Lab1_G2\").getOrCreate()\n",
        "from pyspark.sql import SQLContext\n",
        "sqlContext = SQLContext(sc)"
      ]
    },
    {
      "cell_type": "markdown",
      "metadata": {
        "id": "vyt_NXne0dY8"
      },
      "source": [
        "**1. Read the file PatientInfo.csv into a dataframe**"
      ]
    },
    {
      "cell_type": "code",
      "execution_count": 5,
      "metadata": {
        "id": "VsNdZYPU0dY8"
      },
      "outputs": [],
      "source": [
        "# import pandas as pd\n",
        "# patient_df = pd.read_csv(\"PatientInfo.csv\")\n",
        "# patient = spark.read.csv(\"PatientInfo.csv\",header = True, inferSchema=True)\n",
        "# patient.printSchema()\n",
        "\n",
        "patient = sqlContext.read.csv(\"PatientInfo.csv\",header = True,inferSchema=True)"
      ]
    },
    {
      "cell_type": "markdown",
      "metadata": {
        "id": "GRVxzUpH0dY9"
      },
      "source": [
        "**Show the first 5 lines of the dataframe**"
      ]
    },
    {
      "cell_type": "code",
      "execution_count": 6,
      "metadata": {
        "colab": {
          "base_uri": "https://localhost:8080/"
        },
        "id": "GeL-nuuE0dY9",
        "outputId": "be513ef2-036b-4c48-942d-51e7e8c65ab2"
      },
      "outputs": [
        {
          "output_type": "stream",
          "name": "stdout",
          "text": [
            "+----------+------+---+-------+--------+-----------+--------------------+-----------+--------------+------------------+--------------+-------------+-------------+--------+\n",
            "|patient_id|   sex|age|country|province|       city|      infection_case|infected_by|contact_number|symptom_onset_date|confirmed_date|released_date|deceased_date|   state|\n",
            "+----------+------+---+-------+--------+-----------+--------------------+-----------+--------------+------------------+--------------+-------------+-------------+--------+\n",
            "|1000000001|  male|50s|  Korea|   Seoul| Gangseo-gu|     overseas inflow|       null|            75|        2020-01-22|    2020-01-23|   2020-02-05|         null|released|\n",
            "|1000000002|  male|30s|  Korea|   Seoul|Jungnang-gu|     overseas inflow|       null|            31|              null|    2020-01-30|   2020-03-02|         null|released|\n",
            "|1000000003|  male|50s|  Korea|   Seoul|  Jongno-gu|contact with patient| 2002000001|            17|              null|    2020-01-30|   2020-02-19|         null|released|\n",
            "|1000000004|  male|20s|  Korea|   Seoul|    Mapo-gu|     overseas inflow|       null|             9|        2020-01-26|    2020-01-30|   2020-02-15|         null|released|\n",
            "|1000000005|female|20s|  Korea|   Seoul|Seongbuk-gu|contact with patient| 1000000002|             2|              null|    2020-01-31|   2020-02-24|         null|released|\n",
            "+----------+------+---+-------+--------+-----------+--------------------+-----------+--------------+------------------+--------------+-------------+-------------+--------+\n",
            "only showing top 5 rows\n",
            "\n"
          ]
        }
      ],
      "source": [
        "# patient_df.head()\n",
        "patient.show(5)"
      ]
    },
    {
      "cell_type": "markdown",
      "metadata": {
        "id": "lha8E2vb0dY-"
      },
      "source": [
        "**Now do the same but using SQL select statement**"
      ]
    },
    {
      "cell_type": "markdown",
      "metadata": {
        "id": "MAAukrX80dY-"
      },
      "source": [
        "1. Create a temporary view (table) called patients"
      ]
    },
    {
      "cell_type": "code",
      "execution_count": 7,
      "metadata": {
        "id": "Xd_MJck00dY_"
      },
      "outputs": [],
      "source": [
        "patient.createOrReplaceTempView('patient_view')"
      ]
    },
    {
      "cell_type": "markdown",
      "metadata": {
        "id": "1OPd8SUJ0dY_"
      },
      "source": [
        "2. Use SELECT statement to select all columns from the dataframe"
      ]
    },
    {
      "cell_type": "code",
      "execution_count": 8,
      "metadata": {
        "colab": {
          "base_uri": "https://localhost:8080/"
        },
        "id": "qVB9soae0dY_",
        "outputId": "f35d3be5-5e7e-4b54-f0b6-cb1fe7b64de0"
      },
      "outputs": [
        {
          "output_type": "stream",
          "name": "stdout",
          "text": [
            "+----------+------+---+-------+--------+------------+--------------------+-----------+--------------+------------------+--------------+-------------+-------------+--------+\n",
            "|patient_id|   sex|age|country|province|        city|      infection_case|infected_by|contact_number|symptom_onset_date|confirmed_date|released_date|deceased_date|   state|\n",
            "+----------+------+---+-------+--------+------------+--------------------+-----------+--------------+------------------+--------------+-------------+-------------+--------+\n",
            "|1000000001|  male|50s|  Korea|   Seoul|  Gangseo-gu|     overseas inflow|       null|            75|        2020-01-22|    2020-01-23|   2020-02-05|         null|released|\n",
            "|1000000002|  male|30s|  Korea|   Seoul| Jungnang-gu|     overseas inflow|       null|            31|              null|    2020-01-30|   2020-03-02|         null|released|\n",
            "|1000000003|  male|50s|  Korea|   Seoul|   Jongno-gu|contact with patient| 2002000001|            17|              null|    2020-01-30|   2020-02-19|         null|released|\n",
            "|1000000004|  male|20s|  Korea|   Seoul|     Mapo-gu|     overseas inflow|       null|             9|        2020-01-26|    2020-01-30|   2020-02-15|         null|released|\n",
            "|1000000005|female|20s|  Korea|   Seoul| Seongbuk-gu|contact with patient| 1000000002|             2|              null|    2020-01-31|   2020-02-24|         null|released|\n",
            "|1000000006|female|50s|  Korea|   Seoul|   Jongno-gu|contact with patient| 1000000003|            43|              null|    2020-01-31|   2020-02-19|         null|released|\n",
            "|1000000007|  male|20s|  Korea|   Seoul|   Jongno-gu|contact with patient| 1000000003|             0|              null|    2020-01-31|   2020-02-10|         null|released|\n",
            "|1000000008|  male|20s|  Korea|   Seoul|         etc|     overseas inflow|       null|             0|              null|    2020-02-02|   2020-02-24|         null|released|\n",
            "|1000000009|  male|30s|  Korea|   Seoul|   Songpa-gu|     overseas inflow|       null|            68|              null|    2020-02-05|   2020-02-21|         null|released|\n",
            "|1000000010|female|60s|  Korea|   Seoul| Seongbuk-gu|contact with patient| 1000000003|             6|              null|    2020-02-05|   2020-02-29|         null|released|\n",
            "|1000000011|female|50s|  China|   Seoul|Seodaemun-gu|     overseas inflow|       null|            23|              null|    2020-02-06|   2020-02-29|         null|released|\n",
            "|1000000012|  male|20s|  Korea|   Seoul|         etc|     overseas inflow|       null|             0|              null|    2020-02-07|   2020-02-27|         null|released|\n",
            "|1000000013|  male|80s|  Korea|   Seoul|   Jongno-gu|contact with patient| 1000000017|           117|              null|    2020-02-16|         null|         null|deceased|\n",
            "|1000000014|female|60s|  Korea|   Seoul|   Jongno-gu|contact with patient| 1000000013|            27|        2020-02-06|    2020-02-16|   2020-03-12|         null|released|\n",
            "|1000000015|  male|70s|  Korea|   Seoul|Seongdong-gu|    Seongdong-gu APT|       null|             8|        2020-02-11|    2020-02-19|         null|         null|released|\n",
            "|1000000016|  male|70s|  Korea|   Seoul|   Jongno-gu|contact with patient| 1000000017|          null|              null|    2020-02-19|   2020-03-11|         null|released|\n",
            "|1000000017|  male|70s|  Korea|   Seoul|   Jongno-gu|contact with patient| 1000000003|          null|              null|    2020-02-20|   2020-03-01|         null|released|\n",
            "|1000000018|  male|20s|  Korea|   Seoul|         etc|                 etc|       null|          null|              null|    2020-02-20|         null|         null|released|\n",
            "|1000000019|female|70s|  Korea|   Seoul|   Jongno-gu|contact with patient| 1000000021|          null|              null|    2020-02-20|   2020-03-08|         null|released|\n",
            "|1000000020|female|70s|  Korea|   Seoul|Seongdong-gu|    Seongdong-gu APT| 1000000015|          null|              null|    2020-02-20|         null|         null|released|\n",
            "+----------+------+---+-------+--------+------------+--------------------+-----------+--------------+------------------+--------------+-------------+-------------+--------+\n",
            "only showing top 20 rows\n",
            "\n"
          ]
        }
      ],
      "source": [
        "data = sqlContext.sql(\"\"\"\n",
        "  select * from patient_view;\n",
        "\"\"\")\n",
        "# patient.select(patient.columns).show()\n",
        "data.show()"
      ]
    },
    {
      "cell_type": "markdown",
      "metadata": {
        "id": "r9bpXE2I0dZA"
      },
      "source": [
        "3. Limit the output to only 5 rows *using SQL commands*"
      ]
    },
    {
      "cell_type": "code",
      "execution_count": 9,
      "metadata": {
        "colab": {
          "base_uri": "https://localhost:8080/"
        },
        "id": "qCFMSZzr0dZA",
        "outputId": "b80201c7-096b-4a8d-995d-55afa72cf432"
      },
      "outputs": [
        {
          "output_type": "stream",
          "name": "stdout",
          "text": [
            "+----------+------+---+-------+--------+-----------+--------------------+-----------+--------------+------------------+--------------+-------------+-------------+--------+\n",
            "|patient_id|   sex|age|country|province|       city|      infection_case|infected_by|contact_number|symptom_onset_date|confirmed_date|released_date|deceased_date|   state|\n",
            "+----------+------+---+-------+--------+-----------+--------------------+-----------+--------------+------------------+--------------+-------------+-------------+--------+\n",
            "|1000000001|  male|50s|  Korea|   Seoul| Gangseo-gu|     overseas inflow|       null|            75|        2020-01-22|    2020-01-23|   2020-02-05|         null|released|\n",
            "|1000000002|  male|30s|  Korea|   Seoul|Jungnang-gu|     overseas inflow|       null|            31|              null|    2020-01-30|   2020-03-02|         null|released|\n",
            "|1000000003|  male|50s|  Korea|   Seoul|  Jongno-gu|contact with patient| 2002000001|            17|              null|    2020-01-30|   2020-02-19|         null|released|\n",
            "|1000000004|  male|20s|  Korea|   Seoul|    Mapo-gu|     overseas inflow|       null|             9|        2020-01-26|    2020-01-30|   2020-02-15|         null|released|\n",
            "|1000000005|female|20s|  Korea|   Seoul|Seongbuk-gu|contact with patient| 1000000002|             2|              null|    2020-01-31|   2020-02-24|         null|released|\n",
            "+----------+------+---+-------+--------+-----------+--------------------+-----------+--------------+------------------+--------------+-------------+-------------+--------+\n",
            "\n"
          ]
        }
      ],
      "source": [
        "# patient.select(patient.columns).limit(5).show()\n",
        "data_limit = sqlContext.sql(\"\"\"\n",
        "  select * from patient_view limit 5;\n",
        "\"\"\")\n",
        "data_limit.show()"
      ]
    },
    {
      "cell_type": "markdown",
      "metadata": {
        "id": "OvQvTPSS0dZA"
      },
      "source": [
        "4. Select the count of males and females in the dataset"
      ]
    },
    {
      "cell_type": "code",
      "execution_count": 10,
      "metadata": {
        "colab": {
          "base_uri": "https://localhost:8080/"
        },
        "id": "_zhZMnl50dZB",
        "outputId": "7d719f71-32ea-4fbb-b0da-d0e250236011"
      },
      "outputs": [
        {
          "output_type": "stream",
          "name": "stdout",
          "text": [
            "+------+----------+\n",
            "|   sex|count(sex)|\n",
            "+------+----------+\n",
            "|  null|         0|\n",
            "|female|      2218|\n",
            "|  male|      1825|\n",
            "+------+----------+\n",
            "\n",
            "+----------+\n",
            "|count(sex)|\n",
            "+----------+\n",
            "|      1825|\n",
            "+----------+\n",
            "\n",
            "+----------+\n",
            "|count(sex)|\n",
            "+----------+\n",
            "|      2218|\n",
            "+----------+\n",
            "\n"
          ]
        }
      ],
      "source": [
        "# patient.where(col(\"sex\") == \"male\").agg(count(col(\"sex\")).alias(\"Male\")).show()\n",
        "# patient.where(col(\"sex\") == \"female\").agg(count(col(\"sex\")).alias(\"Female\")).show()\n",
        "# patient.groupBy(col(\"sex\")).agg(count(col(\"sex\"))).show()\n",
        "\n",
        "sex_count = sqlContext.sql(\"\"\"\n",
        "  select sex,count(sex) from patient_view group by sex;\n",
        "\"\"\")\n",
        "male_count = sqlContext.sql(\"\"\"\n",
        "  select count(sex) from patient_view where sex == \"male\";\n",
        "\"\"\")\n",
        "female_count = sqlContext.sql(\"\"\"\n",
        "  select count(sex) from patient_view where sex == \"female\";\n",
        "\"\"\")\n",
        "\n",
        "sex_count.show()\n",
        "male_count.show()\n",
        "female_count.show()"
      ]
    },
    {
      "cell_type": "markdown",
      "metadata": {
        "id": "ip5AV0MW0dZB"
      },
      "source": [
        "5. Select the count of males and females *as percentage* (how many percent of the data are males and how many are females?)"
      ]
    },
    {
      "cell_type": "code",
      "execution_count": 11,
      "metadata": {
        "colab": {
          "base_uri": "https://localhost:8080/"
        },
        "id": "UzMbvo5p0dZB",
        "outputId": "a2611353-1ca7-416a-c32f-30dd9e4bec91"
      },
      "outputs": [
        {
          "output_type": "stream",
          "name": "stdout",
          "text": [
            "+-----------------+\n",
            "|             male|\n",
            "+-----------------+\n",
            "|45.13974771209498|\n",
            "+-----------------+\n",
            "\n",
            "+-----------------+\n",
            "|           female|\n",
            "+-----------------+\n",
            "|54.86025228790502|\n",
            "+-----------------+\n",
            "\n"
          ]
        }
      ],
      "source": [
        "male_percentage = sqlContext.sql(\"\"\"\n",
        "  select count(sex)/(select count(sex) from patient_view) *100 as male from patient_view where sex == \"male\";\n",
        "\"\"\")\n",
        "female_percentage = sqlContext.sql(\"\"\"\n",
        "  select count(sex)/(select count(sex) from patient_view) *100 as female from patient_view where sex == \"female\";\n",
        "\"\"\")\n",
        "male_percentage.show()\n",
        "female_percentage.show()"
      ]
    },
    {
      "cell_type": "markdown",
      "metadata": {
        "id": "chjLkt_L0dZB"
      },
      "source": [
        "6. How many people did survive, and how many didn't?"
      ]
    },
    {
      "cell_type": "code",
      "execution_count": 12,
      "metadata": {
        "colab": {
          "base_uri": "https://localhost:8080/"
        },
        "id": "DVJN3c7k0dZC",
        "outputId": "3f65c81f-b02d-4d3d-864c-9b606a8e4f27"
      },
      "outputs": [
        {
          "output_type": "stream",
          "name": "stdout",
          "text": [
            "+--------+------------+\n",
            "|   state|count(state)|\n",
            "+--------+------------+\n",
            "|isolated|        2158|\n",
            "|released|        2929|\n",
            "|deceased|          78|\n",
            "+--------+------------+\n",
            "\n",
            "+--------+\n",
            "|Survived|\n",
            "+--------+\n",
            "|    2929|\n",
            "+--------+\n",
            "\n",
            "+----------+\n",
            "|Unsurvived|\n",
            "+----------+\n",
            "|        78|\n",
            "+----------+\n",
            "\n"
          ]
        }
      ],
      "source": [
        "state_count = sqlContext.sql(\"\"\"\n",
        "  select state,count(state) from patient_view group by state;\n",
        "\"\"\")\n",
        "survive_count = sqlContext.sql(\"\"\"\n",
        "  select count(state) as Survived from patient_view where state == \"released\" ;\n",
        "\"\"\")\n",
        "unsurvive_count = sqlContext.sql(\"\"\"\n",
        "  select count(state) as Unsurvived from patient_view where state =='deceased';\n",
        "\"\"\")\n",
        "\n",
        "state_count.show()\n",
        "survive_count.show()\n",
        "unsurvive_count.show()"
      ]
    },
    {
      "cell_type": "markdown",
      "metadata": {
        "id": "BwIk_HZe0dZC"
      },
      "source": [
        "Now, let's perform some preprocessing using SQL:\n",
        "\n",
        "1. Convert *age* column to double after removing the 's' at the end -- *hint: check SUBSTRING method*\n",
        "2. Select only the following columns: `['sex', 'age', 'province', 'state']`\n",
        "3. Store the result of the query in a new dataframe"
      ]
    },
    {
      "cell_type": "code",
      "execution_count": 13,
      "metadata": {
        "colab": {
          "base_uri": "https://localhost:8080/"
        },
        "id": "pnuwyFJP0dZC",
        "outputId": "934636d4-b0b7-47f9-f80a-e17ca503add4"
      },
      "outputs": [
        {
          "output_type": "stream",
          "name": "stdout",
          "text": [
            "root\n",
            " |-- sex: string (nullable = true)\n",
            " |-- age: double (nullable = true)\n",
            " |-- province: string (nullable = true)\n",
            " |-- state: string (nullable = true)\n",
            "\n"
          ]
        }
      ],
      "source": [
        "from pyspark.sql.types import DoubleType\n",
        "# patient.createOrReplaceTempView('patient_view_ml')\n",
        "patient_view_ml = patient.withColumn(\"age\",regexp_replace(col(\"age\"),'s','')).withColumn(\"age\",col(\"age\").cast(DoubleType()))\n",
        "patient_view_ml = patient_view_ml.select(\"sex\",\"age\",\"province\",\"state\")\n",
        "patient_view_ml.printSchema()"
      ]
    },
    {
      "cell_type": "markdown",
      "metadata": {
        "id": "JTDRw3R50dZC"
      },
      "source": [
        "Now view the new dataframe to make sure everything is alright"
      ]
    },
    {
      "cell_type": "code",
      "execution_count": 14,
      "metadata": {
        "colab": {
          "base_uri": "https://localhost:8080/"
        },
        "id": "-CCE5Q_k0dZC",
        "outputId": "a877dedb-5820-41af-fa60-e126b6d5dd41"
      },
      "outputs": [
        {
          "output_type": "stream",
          "name": "stdout",
          "text": [
            "+------+----+--------+--------+\n",
            "|   sex| age|province|   state|\n",
            "+------+----+--------+--------+\n",
            "|  male|50.0|   Seoul|released|\n",
            "|  male|30.0|   Seoul|released|\n",
            "|  male|50.0|   Seoul|released|\n",
            "|  male|20.0|   Seoul|released|\n",
            "|female|20.0|   Seoul|released|\n",
            "|female|50.0|   Seoul|released|\n",
            "|  male|20.0|   Seoul|released|\n",
            "|  male|20.0|   Seoul|released|\n",
            "|  male|30.0|   Seoul|released|\n",
            "|female|60.0|   Seoul|released|\n",
            "|female|50.0|   Seoul|released|\n",
            "|  male|20.0|   Seoul|released|\n",
            "|  male|80.0|   Seoul|deceased|\n",
            "|female|60.0|   Seoul|released|\n",
            "|  male|70.0|   Seoul|released|\n",
            "|  male|70.0|   Seoul|released|\n",
            "|  male|70.0|   Seoul|released|\n",
            "|  male|20.0|   Seoul|released|\n",
            "|female|70.0|   Seoul|released|\n",
            "|female|70.0|   Seoul|released|\n",
            "+------+----+--------+--------+\n",
            "only showing top 20 rows\n",
            "\n"
          ]
        }
      ],
      "source": [
        "patient_view_ml.show()"
      ]
    },
    {
      "cell_type": "markdown",
      "metadata": {
        "id": "vfjw7L_Q0dZD"
      },
      "source": [
        "**Now, let's get back to spark operations**\n",
        "\n",
        "Please copy the following operations from your solution in Lab 1\n",
        "___"
      ]
    },
    {
      "cell_type": "markdown",
      "metadata": {
        "id": "NIxmzZcx0dZD"
      },
      "source": [
        "Add a **is_dead** column if patient state is not released then it should yield true, else then False"
      ]
    },
    {
      "cell_type": "code",
      "execution_count": 15,
      "metadata": {
        "colab": {
          "base_uri": "https://localhost:8080/"
        },
        "id": "cjkJtTGq0dZD",
        "outputId": "526807bb-5a75-4db3-8f52-0a218b236afc"
      },
      "outputs": [
        {
          "output_type": "stream",
          "name": "stdout",
          "text": [
            "+------+----+--------+--------+-------+\n",
            "|   sex| age|province|   state|is_dead|\n",
            "+------+----+--------+--------+-------+\n",
            "|  male|50.0|   Seoul|released|      0|\n",
            "|  male|30.0|   Seoul|released|      0|\n",
            "|  male|50.0|   Seoul|released|      0|\n",
            "|  male|20.0|   Seoul|released|      0|\n",
            "|female|20.0|   Seoul|released|      0|\n",
            "+------+----+--------+--------+-------+\n",
            "only showing top 5 rows\n",
            "\n"
          ]
        }
      ],
      "source": [
        "patient_view_ml = patient_view_ml.withColumn(\"is_dead\",when((col(\"state\") == 'deceased'),lit(1)).otherwise(lit(0)))\n",
        "patient_view_ml.show(5)"
      ]
    },
    {
      "cell_type": "code",
      "execution_count": 15,
      "metadata": {
        "id": "k6V1eqj-0dZD"
      },
      "outputs": [],
      "source": [
        ""
      ]
    },
    {
      "cell_type": "code",
      "execution_count": 15,
      "metadata": {
        "id": "WTAcBoQ00dZD"
      },
      "outputs": [],
      "source": [
        ""
      ]
    },
    {
      "cell_type": "markdown",
      "metadata": {
        "id": "xpGPy11O0dZD"
      },
      "source": [
        "**Please split the data into train and test dataframes**\n",
        "\n",
        "*Ratio: 80:20 - Seed=42*"
      ]
    },
    {
      "cell_type": "code",
      "execution_count": 15,
      "metadata": {
        "id": "lKFVLfTc0dZE"
      },
      "outputs": [],
      "source": [
        ""
      ]
    },
    {
      "cell_type": "code",
      "execution_count": 16,
      "metadata": {
        "id": "7A7mXb9P0dZE"
      },
      "outputs": [],
      "source": [
        "trainDF,testDF = patient_view_ml.randomSplit([0.8,0.2],seed = 42)"
      ]
    },
    {
      "cell_type": "code",
      "execution_count": 17,
      "metadata": {
        "colab": {
          "base_uri": "https://localhost:8080/"
        },
        "id": "TucaxM740dZE",
        "outputId": "bece12bc-8879-49a8-86c4-685cbad223b6"
      },
      "outputs": [
        {
          "output_type": "stream",
          "name": "stdout",
          "text": [
            "+----+----+-----------+--------+-------+\n",
            "| sex| age|   province|   state|is_dead|\n",
            "+----+----+-----------+--------+-------+\n",
            "|null|null|Gyeonggi-do|isolated|      0|\n",
            "|null|null|Gyeonggi-do|isolated|      0|\n",
            "|null|null|Gyeonggi-do|isolated|      0|\n",
            "|null|null|Gyeonggi-do|isolated|      0|\n",
            "|null|null|Gyeonggi-do|isolated|      0|\n",
            "+----+----+-----------+--------+-------+\n",
            "only showing top 5 rows\n",
            "\n"
          ]
        }
      ],
      "source": [
        "testDF.show(5)"
      ]
    },
    {
      "cell_type": "markdown",
      "metadata": {
        "id": "9t1aq2B30dZE"
      },
      "source": [
        "**Now, let's import RandomForestClassifier and start our ML pipeline**"
      ]
    },
    {
      "cell_type": "code",
      "execution_count": 18,
      "metadata": {
        "id": "dVPlxN9Q0dZF"
      },
      "outputs": [],
      "source": [
        "from pyspark.ml.classification import RandomForestClassifier\n"
      ]
    },
    {
      "cell_type": "markdown",
      "metadata": {
        "id": "35zVh3Ln0dZF"
      },
      "source": [
        "**Create a pipeline that contains the following stages:**\n",
        "\n",
        "- Imputer: impute the null values in `age` column to the mean value\n",
        "- StringIndexer: convert `sex` to `is_male` and `province` to `province_index` as numerical values\n",
        "- OneHotEncoder: perform one hot encoding on both `is_male` and -province_index`\n",
        "- VectorAssembler: assemble feature vector from the following columns: `'age', 'is_male', 'province_index'`\n",
        "- RandomForestClassifier: final estimator"
      ]
    },
    {
      "cell_type": "code",
      "execution_count": 26,
      "metadata": {
        "id": "jD4xDeaB0dZF"
      },
      "outputs": [],
      "source": [
        "\n",
        "from pyspark.ml.feature import Imputer,StringIndexer,OneHotEncoder,VectorAssembler\n",
        "imputer = Imputer(inputCol='age',outputCol='age').setStrategy(\"mean\")\n",
        "indexer = StringIndexer(inputCols =['sex','province'],outputCols=['is_male','province_index'], handleInvalid='skip')\n",
        "encoder = OneHotEncoder(inputCols=['is_male','province_index'],outputCols=['is_male_encoded','province_index_encoded'])\n",
        "assembler = VectorAssembler(inputCols=['age','is_male_encoded','province_index_encoded'],outputCol='features')\n",
        "rf = RandomForestClassifier(featuresCol='features', labelCol = 'is_dead')"
      ]
    },
    {
      "cell_type": "code",
      "execution_count": 26,
      "metadata": {
        "id": "2ggm0UDg0dZF"
      },
      "outputs": [],
      "source": [
        ""
      ]
    },
    {
      "cell_type": "markdown",
      "metadata": {
        "id": "vSUBuxVp0dZF"
      },
      "source": [
        "Fit the pipeline to the train dataframe"
      ]
    },
    {
      "cell_type": "code",
      "execution_count": 28,
      "metadata": {
        "id": "b6K0cSy20dZG"
      },
      "outputs": [],
      "source": [
        "from pyspark.ml import Pipeline \n",
        "pipe = Pipeline(stages=[imputer,indexer,encoder,assembler,rf])\n",
        "training = pipe.fit(trainDF)"
      ]
    },
    {
      "cell_type": "markdown",
      "metadata": {
        "id": "MOY2uQz-0dZG"
      },
      "source": [
        "Now transform the test DF to get predictions"
      ]
    },
    {
      "cell_type": "code",
      "execution_count": 30,
      "metadata": {
        "colab": {
          "base_uri": "https://localhost:8080/"
        },
        "id": "EjOBdTw80dZG",
        "outputId": "cfa393aa-0445-49b4-a8b9-e36e4edf83c8"
      },
      "outputs": [
        {
          "output_type": "stream",
          "name": "stdout",
          "text": [
            "+------+----------------+----------------+--------+-------+-------+--------------+---------------+----------------------+--------------------+--------------------+--------------------+----------+\n",
            "|   sex|             age|        province|   state|is_dead|is_male|province_index|is_male_encoded|province_index_encoded|            features|       rawPrediction|         probability|prediction|\n",
            "+------+----------------+----------------+--------+-------+-------+--------------+---------------+----------------------+--------------------+--------------------+--------------------+----------+\n",
            "|female|40.0494233937397|Gyeongsangbuk-do|released|      0|    0.0|           1.0|  (1,[0],[1.0])|        (16,[1],[1.0])|(18,[0,1,3],[40.0...|[19.7698683020076...|[0.98849341510038...|       0.0|\n",
            "|female|40.0494233937397|Gyeongsangbuk-do|released|      0|    0.0|           1.0|  (1,[0],[1.0])|        (16,[1],[1.0])|(18,[0,1,3],[40.0...|[19.7698683020076...|[0.98849341510038...|       0.0|\n",
            "|female|40.0494233937397|         Incheon|isolated|      0|    0.0|           3.0|  (1,[0],[1.0])|        (16,[3],[1.0])|(18,[0,1,5],[40.0...|[19.8372101721301...|[0.99186050860650...|       0.0|\n",
            "|female|40.0494233937397|         Incheon|isolated|      0|    0.0|           3.0|  (1,[0],[1.0])|        (16,[3],[1.0])|(18,[0,1,5],[40.0...|[19.8372101721301...|[0.99186050860650...|       0.0|\n",
            "|female|40.0494233937397|         Incheon|isolated|      0|    0.0|           3.0|  (1,[0],[1.0])|        (16,[3],[1.0])|(18,[0,1,5],[40.0...|[19.8372101721301...|[0.99186050860650...|       0.0|\n",
            "|female|40.0494233937397|         Incheon|isolated|      0|    0.0|           3.0|  (1,[0],[1.0])|        (16,[3],[1.0])|(18,[0,1,5],[40.0...|[19.8372101721301...|[0.99186050860650...|       0.0|\n",
            "|female|40.0494233937397|         Incheon|isolated|      0|    0.0|           3.0|  (1,[0],[1.0])|        (16,[3],[1.0])|(18,[0,1,5],[40.0...|[19.8372101721301...|[0.99186050860650...|       0.0|\n",
            "|female|40.0494233937397|         Incheon|isolated|      0|    0.0|           3.0|  (1,[0],[1.0])|        (16,[3],[1.0])|(18,[0,1,5],[40.0...|[19.8372101721301...|[0.99186050860650...|       0.0|\n",
            "|female|40.0494233937397|         Incheon|isolated|      0|    0.0|           3.0|  (1,[0],[1.0])|        (16,[3],[1.0])|(18,[0,1,5],[40.0...|[19.8372101721301...|[0.99186050860650...|       0.0|\n",
            "|female|40.0494233937397|         Incheon|isolated|      0|    0.0|           3.0|  (1,[0],[1.0])|        (16,[3],[1.0])|(18,[0,1,5],[40.0...|[19.8372101721301...|[0.99186050860650...|       0.0|\n",
            "|female|40.0494233937397|         Incheon|isolated|      0|    0.0|           3.0|  (1,[0],[1.0])|        (16,[3],[1.0])|(18,[0,1,5],[40.0...|[19.8372101721301...|[0.99186050860650...|       0.0|\n",
            "|female|40.0494233937397|         Incheon|isolated|      0|    0.0|           3.0|  (1,[0],[1.0])|        (16,[3],[1.0])|(18,[0,1,5],[40.0...|[19.8372101721301...|[0.99186050860650...|       0.0|\n",
            "|female|40.0494233937397|         Incheon|isolated|      0|    0.0|           3.0|  (1,[0],[1.0])|        (16,[3],[1.0])|(18,[0,1,5],[40.0...|[19.8372101721301...|[0.99186050860650...|       0.0|\n",
            "|female|40.0494233937397|         Incheon|isolated|      0|    0.0|           3.0|  (1,[0],[1.0])|        (16,[3],[1.0])|(18,[0,1,5],[40.0...|[19.8372101721301...|[0.99186050860650...|       0.0|\n",
            "|female|40.0494233937397|         Incheon|isolated|      0|    0.0|           3.0|  (1,[0],[1.0])|        (16,[3],[1.0])|(18,[0,1,5],[40.0...|[19.8372101721301...|[0.99186050860650...|       0.0|\n",
            "|female|40.0494233937397|         Incheon|isolated|      0|    0.0|           3.0|  (1,[0],[1.0])|        (16,[3],[1.0])|(18,[0,1,5],[40.0...|[19.8372101721301...|[0.99186050860650...|       0.0|\n",
            "|female|40.0494233937397|         Incheon|isolated|      0|    0.0|           3.0|  (1,[0],[1.0])|        (16,[3],[1.0])|(18,[0,1,5],[40.0...|[19.8372101721301...|[0.99186050860650...|       0.0|\n",
            "|female|40.0494233937397|         Incheon|isolated|      0|    0.0|           3.0|  (1,[0],[1.0])|        (16,[3],[1.0])|(18,[0,1,5],[40.0...|[19.8372101721301...|[0.99186050860650...|       0.0|\n",
            "|female|40.0494233937397|         Incheon|isolated|      0|    0.0|           3.0|  (1,[0],[1.0])|        (16,[3],[1.0])|(18,[0,1,5],[40.0...|[19.8372101721301...|[0.99186050860650...|       0.0|\n",
            "|female|40.0494233937397|         Incheon|isolated|      0|    0.0|           3.0|  (1,[0],[1.0])|        (16,[3],[1.0])|(18,[0,1,5],[40.0...|[19.8372101721301...|[0.99186050860650...|       0.0|\n",
            "+------+----------------+----------------+--------+-------+-------+--------------+---------------+----------------------+--------------------+--------------------+--------------------+----------+\n",
            "only showing top 20 rows\n",
            "\n"
          ]
        }
      ],
      "source": [
        "pred =training.transform(testDF)\n",
        "pred.show()"
      ]
    },
    {
      "cell_type": "markdown",
      "metadata": {
        "id": "AO1_i9SP0dZG"
      },
      "source": [
        "Show the final predictions DF"
      ]
    },
    {
      "cell_type": "code",
      "execution_count": 31,
      "metadata": {
        "colab": {
          "base_uri": "https://localhost:8080/"
        },
        "id": "Pnxq5ATg0dZG",
        "outputId": "f7c94ac7-8faa-4432-8eeb-47e19be4edd7"
      },
      "outputs": [
        {
          "output_type": "stream",
          "name": "stdout",
          "text": [
            "+------+----------------+----------------+--------+-------+-------+--------------+---------------+----------------------+--------------------+--------------------+--------------------+----------+\n",
            "|   sex|             age|        province|   state|is_dead|is_male|province_index|is_male_encoded|province_index_encoded|            features|       rawPrediction|         probability|prediction|\n",
            "+------+----------------+----------------+--------+-------+-------+--------------+---------------+----------------------+--------------------+--------------------+--------------------+----------+\n",
            "|female|40.0494233937397|Gyeongsangbuk-do|released|      0|    0.0|           1.0|  (1,[0],[1.0])|        (16,[1],[1.0])|(18,[0,1,3],[40.0...|[19.7698683020076...|[0.98849341510038...|       0.0|\n",
            "|female|40.0494233937397|Gyeongsangbuk-do|released|      0|    0.0|           1.0|  (1,[0],[1.0])|        (16,[1],[1.0])|(18,[0,1,3],[40.0...|[19.7698683020076...|[0.98849341510038...|       0.0|\n",
            "|female|40.0494233937397|         Incheon|isolated|      0|    0.0|           3.0|  (1,[0],[1.0])|        (16,[3],[1.0])|(18,[0,1,5],[40.0...|[19.8372101721301...|[0.99186050860650...|       0.0|\n",
            "|female|40.0494233937397|         Incheon|isolated|      0|    0.0|           3.0|  (1,[0],[1.0])|        (16,[3],[1.0])|(18,[0,1,5],[40.0...|[19.8372101721301...|[0.99186050860650...|       0.0|\n",
            "|female|40.0494233937397|         Incheon|isolated|      0|    0.0|           3.0|  (1,[0],[1.0])|        (16,[3],[1.0])|(18,[0,1,5],[40.0...|[19.8372101721301...|[0.99186050860650...|       0.0|\n",
            "|female|40.0494233937397|         Incheon|isolated|      0|    0.0|           3.0|  (1,[0],[1.0])|        (16,[3],[1.0])|(18,[0,1,5],[40.0...|[19.8372101721301...|[0.99186050860650...|       0.0|\n",
            "|female|40.0494233937397|         Incheon|isolated|      0|    0.0|           3.0|  (1,[0],[1.0])|        (16,[3],[1.0])|(18,[0,1,5],[40.0...|[19.8372101721301...|[0.99186050860650...|       0.0|\n",
            "|female|40.0494233937397|         Incheon|isolated|      0|    0.0|           3.0|  (1,[0],[1.0])|        (16,[3],[1.0])|(18,[0,1,5],[40.0...|[19.8372101721301...|[0.99186050860650...|       0.0|\n",
            "|female|40.0494233937397|         Incheon|isolated|      0|    0.0|           3.0|  (1,[0],[1.0])|        (16,[3],[1.0])|(18,[0,1,5],[40.0...|[19.8372101721301...|[0.99186050860650...|       0.0|\n",
            "|female|40.0494233937397|         Incheon|isolated|      0|    0.0|           3.0|  (1,[0],[1.0])|        (16,[3],[1.0])|(18,[0,1,5],[40.0...|[19.8372101721301...|[0.99186050860650...|       0.0|\n",
            "|female|40.0494233937397|         Incheon|isolated|      0|    0.0|           3.0|  (1,[0],[1.0])|        (16,[3],[1.0])|(18,[0,1,5],[40.0...|[19.8372101721301...|[0.99186050860650...|       0.0|\n",
            "|female|40.0494233937397|         Incheon|isolated|      0|    0.0|           3.0|  (1,[0],[1.0])|        (16,[3],[1.0])|(18,[0,1,5],[40.0...|[19.8372101721301...|[0.99186050860650...|       0.0|\n",
            "|female|40.0494233937397|         Incheon|isolated|      0|    0.0|           3.0|  (1,[0],[1.0])|        (16,[3],[1.0])|(18,[0,1,5],[40.0...|[19.8372101721301...|[0.99186050860650...|       0.0|\n",
            "|female|40.0494233937397|         Incheon|isolated|      0|    0.0|           3.0|  (1,[0],[1.0])|        (16,[3],[1.0])|(18,[0,1,5],[40.0...|[19.8372101721301...|[0.99186050860650...|       0.0|\n",
            "|female|40.0494233937397|         Incheon|isolated|      0|    0.0|           3.0|  (1,[0],[1.0])|        (16,[3],[1.0])|(18,[0,1,5],[40.0...|[19.8372101721301...|[0.99186050860650...|       0.0|\n",
            "|female|40.0494233937397|         Incheon|isolated|      0|    0.0|           3.0|  (1,[0],[1.0])|        (16,[3],[1.0])|(18,[0,1,5],[40.0...|[19.8372101721301...|[0.99186050860650...|       0.0|\n",
            "|female|40.0494233937397|         Incheon|isolated|      0|    0.0|           3.0|  (1,[0],[1.0])|        (16,[3],[1.0])|(18,[0,1,5],[40.0...|[19.8372101721301...|[0.99186050860650...|       0.0|\n",
            "|female|40.0494233937397|         Incheon|isolated|      0|    0.0|           3.0|  (1,[0],[1.0])|        (16,[3],[1.0])|(18,[0,1,5],[40.0...|[19.8372101721301...|[0.99186050860650...|       0.0|\n",
            "|female|40.0494233937397|         Incheon|isolated|      0|    0.0|           3.0|  (1,[0],[1.0])|        (16,[3],[1.0])|(18,[0,1,5],[40.0...|[19.8372101721301...|[0.99186050860650...|       0.0|\n",
            "|female|40.0494233937397|         Incheon|isolated|      0|    0.0|           3.0|  (1,[0],[1.0])|        (16,[3],[1.0])|(18,[0,1,5],[40.0...|[19.8372101721301...|[0.99186050860650...|       0.0|\n",
            "+------+----------------+----------------+--------+-------+-------+--------------+---------------+----------------------+--------------------+--------------------+--------------------+----------+\n",
            "only showing top 20 rows\n",
            "\n"
          ]
        }
      ],
      "source": [
        "pred.show()"
      ]
    },
    {
      "cell_type": "code",
      "execution_count": 32,
      "metadata": {
        "colab": {
          "base_uri": "https://localhost:8080/"
        },
        "id": "tRyjBDum0dZG",
        "outputId": "26f71d55-db66-45f3-bd33-f6f7ad9cd2ad"
      },
      "outputs": [
        {
          "output_type": "stream",
          "name": "stdout",
          "text": [
            "+---------------------------------------+-------+----------+\n",
            "|features                               |is_dead|prediction|\n",
            "+---------------------------------------+-------+----------+\n",
            "|(18,[0,1,3],[40.0494233937397,1.0,1.0])|0      |0.0       |\n",
            "|(18,[0,1,3],[40.0494233937397,1.0,1.0])|0      |0.0       |\n",
            "|(18,[0,1,5],[40.0494233937397,1.0,1.0])|0      |0.0       |\n",
            "|(18,[0,1,5],[40.0494233937397,1.0,1.0])|0      |0.0       |\n",
            "|(18,[0,1,5],[40.0494233937397,1.0,1.0])|0      |0.0       |\n",
            "+---------------------------------------+-------+----------+\n",
            "only showing top 5 rows\n",
            "\n"
          ]
        }
      ],
      "source": [
        "pred.select('features','is_dead','prediction').show(5,truncate=False)"
      ]
    },
    {
      "cell_type": "markdown",
      "metadata": {
        "id": "dOVz8QZ20dZH"
      },
      "source": [
        "**Model Evaluation**\n",
        "\n",
        "Now let's evaluate our model! Let's get the accuracy of our model"
      ]
    },
    {
      "cell_type": "code",
      "execution_count": 36,
      "metadata": {
        "colab": {
          "base_uri": "https://localhost:8080/"
        },
        "id": "lvc8m2hW0dZH",
        "outputId": "96ce28e9-8d81-4ad6-f56e-9574a4653a06"
      },
      "outputs": [
        {
          "output_type": "execute_result",
          "data": {
            "text/plain": [
              "0.5"
            ]
          },
          "metadata": {},
          "execution_count": 36
        }
      ],
      "source": [
        "from pyspark.ml.evaluation import BinaryClassificationEvaluator\n",
        "Binary_Evaluator= BinaryClassificationEvaluator(rawPredictionCol='prediction',\n",
        "                                         labelCol='is_dead',metricName='areaUnderROC')\n",
        "Binary_Evaluator.evaluate(pred)"
      ]
    },
    {
      "cell_type": "code",
      "execution_count": null,
      "metadata": {
        "id": "e7WBRVsW0dZH"
      },
      "outputs": [],
      "source": [
        ""
      ]
    },
    {
      "cell_type": "markdown",
      "metadata": {
        "id": "yHkop06j0dZH"
      },
      "source": [
        "Excellent! Now let's generate the confusion matrix of our predictions\n",
        "\n",
        "*Hint: we can use `scikit-learn`'s `classification_report`. You will need to transform the predictions into pandas DF first*"
      ]
    },
    {
      "cell_type": "code",
      "execution_count": null,
      "metadata": {
        "id": "r-EpwD_v0dZH"
      },
      "outputs": [],
      "source": [
        ""
      ]
    },
    {
      "cell_type": "code",
      "execution_count": null,
      "metadata": {
        "id": "n4VQN22m0dZH"
      },
      "outputs": [],
      "source": [
        ""
      ]
    },
    {
      "cell_type": "code",
      "execution_count": null,
      "metadata": {
        "id": "lb9vHVZk0dZH"
      },
      "outputs": [],
      "source": [
        ""
      ]
    },
    {
      "cell_type": "markdown",
      "metadata": {
        "id": "Fj3Ueqq50dZI"
      },
      "source": [
        "## Great Job!\n",
        "\n",
        "**If you followed the instructions correctly, you should get a total accuracy of 89%, and F1 scores of 92% and 85%**\n",
        "\n",
        "**Do you think you can improve this accuracy? Let's see what you can do :)**\n",
        "\n",
        "___\n",
        "If you have any questions you can reach out to me:\n",
        "\n",
        "### Omar Hammad\n",
        "#### Software Engineer\n",
        "##### Email: ommar365@gmail.com\n",
        "##### Phone: 01144070145\n",
        "##### Linkedin: https://www.linkedin.com/in/omar-a-hammad"
      ]
    }
  ],
  "metadata": {
    "kernelspec": {
      "display_name": "Python 3.9.10",
      "language": "python",
      "name": "python3"
    },
    "language_info": {
      "codemirror_mode": {
        "name": "ipython",
        "version": 3
      },
      "file_extension": ".py",
      "mimetype": "text/x-python",
      "name": "python",
      "nbconvert_exporter": "python",
      "pygments_lexer": "ipython3",
      "version": "3.9.10"
    },
    "orig_nbformat": 4,
    "vscode": {
      "interpreter": {
        "hash": "dd1a844898bebfcc6c6c504d1dc786ee6fa9d0c6b1f1b5f42f0cc60440be92ab"
      }
    },
    "colab": {
      "name": "Aya Hassan - Practical_Session_2_v2.ipynb",
      "provenance": [],
      "collapsed_sections": []
    }
  },
  "nbformat": 4,
  "nbformat_minor": 0
}