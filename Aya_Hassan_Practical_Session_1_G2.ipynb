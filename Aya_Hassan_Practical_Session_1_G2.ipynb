{
  "cells": [
    {
      "cell_type": "markdown",
      "metadata": {
        "id": "n3LYFm-ri2hF"
      },
      "source": [
        "# **Lab 1 PySpark:** \n",
        "\n",
        "\n",
        "In these labs we will be using the \"[[NeurIPS 2020] Data Science for COVID-19 (DS4C)](https://www.kaggle.com/datasets/kimjihoo/coronavirusdataset?select=PatientInfo.csv)\" dataset, retrieved from [Kaggle](https://www.kaggle.com/) on 1/6/2022, for educational non commercial purpose, License\n",
        "[CC BY-NC-SA 4.0\n",
        "](https://creativecommons.org/licenses/by-nc-sa/4.0/)\n",
        "\n",
        "\n",
        "The csv files that we will be using in this lab is **PatientInfo**.\n",
        "\n"
      ]
    },
    {
      "cell_type": "markdown",
      "metadata": {
        "id": "KEybFa4VpV53"
      },
      "source": [
        "# File 📁"
      ]
    },
    {
      "cell_type": "markdown",
      "metadata": {
        "id": "AzqgDiSuph9_"
      },
      "source": [
        "##PatientInfo.csv\n",
        "\n",
        "**patient_id**\n",
        "the ID of the patient\n",
        "\n",
        "**sex**\n",
        "the sex of the patient\n",
        "\n",
        "**age**\n",
        "the age of the patient\n",
        "\n",
        "**country**\n",
        "the country of the patient\n",
        "\n",
        "**province**\n",
        "the province of the patient\n",
        "\n",
        "**city**\n",
        "the city of the patient\n",
        "\n",
        "**infection_case**\n",
        "the case of infection\n",
        "\n",
        "**infected_by**\n",
        "the ID of who infected the patient\n",
        "\n",
        "\n",
        "**contact_number**\n",
        "the number of contacts with people\n",
        "\n",
        "**symptom_onset_date**\n",
        "the date of symptom onset\n",
        "\n",
        "**confirmed_date**\n",
        "the date of being confirmed\n",
        "\n",
        "**released_date**\n",
        "the date of being released\n",
        "\n",
        "**deceased_date**\n",
        "the date of being deceased\n",
        "\n",
        "**state**\n",
        "isolated / released / deceased"
      ]
    },
    {
      "cell_type": "markdown",
      "metadata": {
        "id": "jh6haknIsUDk"
      },
      "source": [
        "# Installing PySpark:\n"
      ]
    },
    {
      "cell_type": "markdown",
      "metadata": {
        "id": "0UHhdbv2w-c7"
      },
      "source": [
        "Kindly install pyspark ⌨"
      ]
    },
    {
      "cell_type": "code",
      "execution_count": 1,
      "metadata": {
        "id": "xfIzY8ZcYzgl",
        "colab": {
          "base_uri": "https://localhost:8080/"
        },
        "outputId": "6e88c0c1-ba9b-4bc1-d6e7-83967f41f8cc"
      },
      "outputs": [
        {
          "output_type": "stream",
          "name": "stdout",
          "text": [
            "Looking in indexes: https://pypi.org/simple, https://us-python.pkg.dev/colab-wheels/public/simple/\n",
            "Requirement already satisfied: pyspark in /usr/local/lib/python3.7/dist-packages (3.2.1)\n",
            "Requirement already satisfied: py4j==0.10.9.3 in /usr/local/lib/python3.7/dist-packages (from pyspark) (0.10.9.3)\n"
          ]
        }
      ],
      "source": [
        "% pip install pyspark"
      ]
    },
    {
      "cell_type": "markdown",
      "metadata": {
        "id": "b-2OIxOKpe8m"
      },
      "source": [
        "Check the pyspark version"
      ]
    },
    {
      "cell_type": "code",
      "execution_count": 2,
      "metadata": {
        "colab": {
          "base_uri": "https://localhost:8080/"
        },
        "id": "y5WrylsPYzdN",
        "outputId": "1785e649-9955-4e6e-b4f5-1c1566d8979d"
      },
      "outputs": [
        {
          "output_type": "stream",
          "name": "stdout",
          "text": [
            "WARNING: An illegal reflective access operation has occurred\n",
            "WARNING: Illegal reflective access by org.apache.spark.unsafe.Platform (file:/usr/local/lib/python3.7/dist-packages/pyspark/jars/spark-unsafe_2.12-3.2.1.jar) to constructor java.nio.DirectByteBuffer(long,int)\n",
            "WARNING: Please consider reporting this to the maintainers of org.apache.spark.unsafe.Platform\n",
            "WARNING: Use --illegal-access=warn to enable warnings of further illegal reflective access operations\n",
            "WARNING: All illegal access operations will be denied in a future release\n",
            "Welcome to\n",
            "      ____              __\n",
            "     / __/__  ___ _____/ /__\n",
            "    _\\ \\/ _ \\/ _ `/ __/  '_/\n",
            "   /___/ .__/\\_,_/_/ /_/\\_\\   version 3.2.1\n",
            "      /_/\n",
            "                        \n",
            "Using Scala version 2.12.15, OpenJDK 64-Bit Server VM, 11.0.15\n",
            "Branch HEAD\n",
            "Compiled by user hgao on 2022-01-20T19:26:14Z\n",
            "Revision 4f25b3f71238a00508a356591553f2dfa89f8290\n",
            "Url https://github.com/apache/spark\n",
            "Type --help for more information.\n"
          ]
        }
      ],
      "source": [
        "!pyspark --version"
      ]
    },
    {
      "cell_type": "markdown",
      "metadata": {
        "id": "zuFL78VZsiih"
      },
      "source": [
        "Importing sparksession then create a spark session"
      ]
    },
    {
      "cell_type": "code",
      "execution_count": 3,
      "metadata": {
        "id": "kXSNtheZY6MR"
      },
      "outputs": [],
      "source": [
        "import pyspark\n",
        "from pyspark.sql import SparkSession\n",
        "from pyspark import SparkContext\n",
        "\n"
      ]
    },
    {
      "cell_type": "code",
      "execution_count": 4,
      "metadata": {
        "id": "ssNr39ToY6I6"
      },
      "outputs": [],
      "source": [
        "sc = SparkContext\n",
        "spark = SparkSession.builder.appName(\"Lab1_G2\").getOrCreate()"
      ]
    },
    {
      "cell_type": "markdown",
      "metadata": {
        "id": "NlDko43_subO"
      },
      "source": [
        "## Importing libraries needed"
      ]
    },
    {
      "cell_type": "markdown",
      "metadata": {
        "id": "d9lcLjvkxi9E"
      },
      "source": [
        "Import the libraries that you may need below"
      ]
    },
    {
      "cell_type": "code",
      "execution_count": 5,
      "metadata": {
        "id": "uykVRq4AYvwt"
      },
      "outputs": [],
      "source": [
        "import pandas as pd\n",
        "import numpy as np\n"
      ]
    },
    {
      "cell_type": "code",
      "execution_count": 6,
      "metadata": {
        "id": "c3TLS6jfaLfi"
      },
      "outputs": [],
      "source": [
        "from pyspark.sql.functions import expr\n",
        "from pyspark.sql.functions import col,isnan, when, count,max\n",
        "from pyspark.sql.functions import *"
      ]
    },
    {
      "cell_type": "code",
      "execution_count": 6,
      "metadata": {
        "id": "BnxEhnfN--qc"
      },
      "outputs": [],
      "source": [
        ""
      ]
    },
    {
      "cell_type": "markdown",
      "metadata": {
        "id": "ckSUdcm4-FNJ"
      },
      "source": [
        "# Follow the instructions above the cells below:\n"
      ]
    },
    {
      "cell_type": "markdown",
      "metadata": {
        "id": "hDu5404I-J52"
      },
      "source": [
        "Kindly load the PatientInfo.csv file and show the first 5 rows"
      ]
    },
    {
      "cell_type": "markdown",
      "metadata": {
        "id": "6MMglyL6u7tS"
      },
      "source": [
        "❌ PLEASE do NOT change the cell below "
      ]
    },
    {
      "cell_type": "code",
      "execution_count": 7,
      "metadata": {
        "colab": {
          "base_uri": "https://localhost:8080/"
        },
        "id": "-k9d26j8ujcQ",
        "outputId": "795ed3d4-fca6-486f-f153-d643aaf26001"
      },
      "outputs": [
        {
          "output_type": "stream",
          "name": "stdout",
          "text": [
            "Downloading...\n",
            "From: https://drive.google.com/uc?id=1PB6wBDVTM_eocxOyi0lWlLBQOlH0rLe_\n",
            "To: /content/PatientInfo.csv\n",
            "\r  0% 0.00/489k [00:00<?, ?B/s]\r100% 489k/489k [00:00<00:00, 91.4MB/s]\n"
          ]
        }
      ],
      "source": [
        "!gdown https://drive.google.com/uc?id=1PB6wBDVTM_eocxOyi0lWlLBQOlH0rLe_ -O PatientInfo.csv"
      ]
    },
    {
      "cell_type": "markdown",
      "metadata": {
        "id": "jTCQPo9nxrM-"
      },
      "source": [
        "load the **PatientInfo.csv** file downloaded and put it in a dataframe called **patient**"
      ]
    },
    {
      "cell_type": "code",
      "execution_count": 8,
      "metadata": {
        "id": "8k6wYm4iapa8"
      },
      "outputs": [],
      "source": [
        "patient = spark.read.csv(\"PatientInfo.csv\",header=True)"
      ]
    },
    {
      "cell_type": "markdown",
      "metadata": {
        "id": "mtwZlnVyx5LR"
      },
      "source": [
        "Show the first 5 rows"
      ]
    },
    {
      "cell_type": "code",
      "execution_count": 9,
      "metadata": {
        "colab": {
          "base_uri": "https://localhost:8080/"
        },
        "id": "2GN7v2RP_snN",
        "outputId": "4ab3a7cd-92e4-470e-88c9-62d8f534b0e6"
      },
      "outputs": [
        {
          "output_type": "execute_result",
          "data": {
            "text/plain": [
              "[Row(patient_id='1000000001', sex='male', age='50s', country='Korea', province='Seoul', city='Gangseo-gu', infection_case='overseas inflow', infected_by=None, contact_number='75', symptom_onset_date='2020-01-22', confirmed_date='2020-01-23', released_date='2020-02-05', deceased_date=None, state='released'),\n",
              " Row(patient_id='1000000002', sex='male', age='30s', country='Korea', province='Seoul', city='Jungnang-gu', infection_case='overseas inflow', infected_by=None, contact_number='31', symptom_onset_date=None, confirmed_date='2020-01-30', released_date='2020-03-02', deceased_date=None, state='released'),\n",
              " Row(patient_id='1000000003', sex='male', age='50s', country='Korea', province='Seoul', city='Jongno-gu', infection_case='contact with patient', infected_by='2002000001', contact_number='17', symptom_onset_date=None, confirmed_date='2020-01-30', released_date='2020-02-19', deceased_date=None, state='released'),\n",
              " Row(patient_id='1000000004', sex='male', age='20s', country='Korea', province='Seoul', city='Mapo-gu', infection_case='overseas inflow', infected_by=None, contact_number='9', symptom_onset_date='2020-01-26', confirmed_date='2020-01-30', released_date='2020-02-15', deceased_date=None, state='released'),\n",
              " Row(patient_id='1000000005', sex='female', age='20s', country='Korea', province='Seoul', city='Seongbuk-gu', infection_case='contact with patient', infected_by='1000000002', contact_number='2', symptom_onset_date=None, confirmed_date='2020-01-31', released_date='2020-02-24', deceased_date=None, state='released')]"
            ]
          },
          "metadata": {},
          "execution_count": 9
        }
      ],
      "source": [
        "patient.head(5)"
      ]
    },
    {
      "cell_type": "markdown",
      "metadata": {
        "id": "oXDVp2jEAdYG"
      },
      "source": [
        "Display the schema for the dataset"
      ]
    },
    {
      "cell_type": "code",
      "execution_count": 10,
      "metadata": {
        "colab": {
          "base_uri": "https://localhost:8080/"
        },
        "id": "I-dkruQEAgPx",
        "outputId": "67cd7fbc-f7cf-4edc-9ec7-12649219ea45"
      },
      "outputs": [
        {
          "output_type": "stream",
          "name": "stdout",
          "text": [
            "root\n",
            " |-- patient_id: string (nullable = true)\n",
            " |-- sex: string (nullable = true)\n",
            " |-- age: string (nullable = true)\n",
            " |-- country: string (nullable = true)\n",
            " |-- province: string (nullable = true)\n",
            " |-- city: string (nullable = true)\n",
            " |-- infection_case: string (nullable = true)\n",
            " |-- infected_by: string (nullable = true)\n",
            " |-- contact_number: string (nullable = true)\n",
            " |-- symptom_onset_date: string (nullable = true)\n",
            " |-- confirmed_date: string (nullable = true)\n",
            " |-- released_date: string (nullable = true)\n",
            " |-- deceased_date: string (nullable = true)\n",
            " |-- state: string (nullable = true)\n",
            "\n"
          ]
        }
      ],
      "source": [
        "patient.printSchema()"
      ]
    },
    {
      "cell_type": "markdown",
      "metadata": {
        "id": "i8C-dNfFAnWm"
      },
      "source": [
        "Display the statistical summary"
      ]
    },
    {
      "cell_type": "code",
      "execution_count": 11,
      "metadata": {
        "colab": {
          "base_uri": "https://localhost:8080/"
        },
        "id": "I5Zf3picAthb",
        "outputId": "38ce8f5e-d4f9-4002-cd7b-850cb0344239"
      },
      "outputs": [
        {
          "output_type": "stream",
          "name": "stdout",
          "text": [
            "+-------+--------------------+------+----+----------+--------+--------------+--------------------+--------------------+--------------------+------------------+--------------+-------------+-------------+--------+\n",
            "|summary|          patient_id|   sex| age|   country|province|          city|      infection_case|         infected_by|      contact_number|symptom_onset_date|confirmed_date|released_date|deceased_date|   state|\n",
            "+-------+--------------------+------+----+----------+--------+--------------+--------------------+--------------------+--------------------+------------------+--------------+-------------+-------------+--------+\n",
            "|  count|                5165|  4043|3785|      5165|    5165|          5071|                4246|                1346|                 791|               690|          5162|         1587|           66|    5165|\n",
            "|   mean|2.8636345618679576E9|  null|null|      null|    null|          null|                null|2.2845944015643125E9|1.6772572523506988E7|              null|          null|         null|         null|    null|\n",
            "| stddev| 2.074210725277473E9|  null|null|      null|    null|          null|                null|1.5265072953383324E9| 3.093097580985502E8|              null|          null|         null|         null|    null|\n",
            "|    min|          1000000001|female|  0s|Bangladesh|   Busan|     Andong-si|Anyang Gunpo Past...|          1000000002|                   -|                  |    2020-01-20|   2020-02-05|   2020-02-19|deceased|\n",
            "|    max|          7000000019|  male| 90s|   Vietnam|   Ulsan|sankyeock-dong|     overseas inflow|          7000000009|                  95|        2020-06-28|    2020-06-30|   2020-06-28|   2020-05-25|released|\n",
            "+-------+--------------------+------+----+----------+--------+--------------+--------------------+--------------------+--------------------+------------------+--------------+-------------+-------------+--------+\n",
            "\n"
          ]
        }
      ],
      "source": [
        "patient.describe().show()"
      ]
    },
    {
      "cell_type": "markdown",
      "metadata": {
        "id": "mR9rigrlA9r7"
      },
      "source": [
        "How many people survived, and how many didn't survive?"
      ]
    },
    {
      "cell_type": "code",
      "source": [
        "patient.where(patient.state == 'released').select(count(\"state\").alias(\"Survived\")).show()"
      ],
      "metadata": {
        "colab": {
          "base_uri": "https://localhost:8080/"
        },
        "id": "rsHiLlZvC64j",
        "outputId": "0b83bfa2-68d8-426a-a8d7-14927615a022"
      },
      "execution_count": 12,
      "outputs": [
        {
          "output_type": "stream",
          "name": "stdout",
          "text": [
            "+--------+\n",
            "|Survived|\n",
            "+--------+\n",
            "|    2929|\n",
            "+--------+\n",
            "\n"
          ]
        }
      ]
    },
    {
      "cell_type": "code",
      "execution_count": 13,
      "metadata": {
        "id": "dlkjbl69A-gO",
        "colab": {
          "base_uri": "https://localhost:8080/"
        },
        "outputId": "d0a1f3a7-e462-4f55-f750-1f582d50bbd8"
      },
      "outputs": [
        {
          "output_type": "stream",
          "name": "stdout",
          "text": [
            "+--------+\n",
            "|Survived|\n",
            "+--------+\n",
            "|    1587|\n",
            "+--------+\n",
            "\n"
          ]
        }
      ],
      "source": [
        "patient.select(count(\"released_date\").alias(\"Survived\")).show()"
      ]
    },
    {
      "cell_type": "code",
      "execution_count": 14,
      "metadata": {
        "colab": {
          "base_uri": "https://localhost:8080/"
        },
        "id": "s9L6Sm7YBLnq",
        "outputId": "d0a0a7b0-f9ef-4c9d-b395-f9ee4d07e385"
      },
      "outputs": [
        {
          "output_type": "stream",
          "name": "stdout",
          "text": [
            "+----------+\n",
            "|Unsurvived|\n",
            "+----------+\n",
            "|        66|\n",
            "+----------+\n",
            "\n"
          ]
        }
      ],
      "source": [
        "patient.select(count(\"deceased_date\").alias(\"Unsurvived\")).show()"
      ]
    },
    {
      "cell_type": "code",
      "source": [
        "patient.where(patient.state == 'deceased').select(count(\"state\").alias(\"Unsurvived\")).show()"
      ],
      "metadata": {
        "colab": {
          "base_uri": "https://localhost:8080/"
        },
        "id": "bKEc9-b5FVMS",
        "outputId": "9cfe5fda-3822-4634-ca0a-3b7e71a81f6b"
      },
      "execution_count": 15,
      "outputs": [
        {
          "output_type": "stream",
          "name": "stdout",
          "text": [
            "+----------+\n",
            "|Unsurvived|\n",
            "+----------+\n",
            "|        78|\n",
            "+----------+\n",
            "\n"
          ]
        }
      ]
    },
    {
      "cell_type": "markdown",
      "metadata": {
        "id": "hWjNttApBdC2"
      },
      "source": [
        "Display the number of null values in each column"
      ]
    },
    {
      "cell_type": "code",
      "execution_count": 16,
      "metadata": {
        "id": "dGS8vgVTBjBs"
      },
      "outputs": [],
      "source": [
        "from pandas.core.arrays.categorical import contains\n",
        "\n",
        "# patient.select([count(when((\n",
        "#                            col(single_column).contains('None') |\\\n",
        "#                            col(single_column).contains('Null') |\\\n",
        "#                            isnan(single_column) | \\\n",
        "#                            col(single_column).isnull() , col)) \\\n",
        "#                           .alias(single_column)\\\n",
        "#                            for single_column in patient.columns]).show()"
      ]
    },
    {
      "cell_type": "code",
      "source": [
        "patient.select([count(when(isnan(c) | col(c).isNull(), c)).alias(c) for c in patient.columns]).show()"
      ],
      "metadata": {
        "colab": {
          "base_uri": "https://localhost:8080/"
        },
        "id": "jThcCvP4SOUr",
        "outputId": "1fb2b85f-dec9-4b63-c262-b2ebaa78e321"
      },
      "execution_count": 17,
      "outputs": [
        {
          "output_type": "stream",
          "name": "stdout",
          "text": [
            "+----------+----+----+-------+--------+----+--------------+-----------+--------------+------------------+--------------+-------------+-------------+-----+\n",
            "|patient_id| sex| age|country|province|city|infection_case|infected_by|contact_number|symptom_onset_date|confirmed_date|released_date|deceased_date|state|\n",
            "+----------+----+----+-------+--------+----+--------------+-----------+--------------+------------------+--------------+-------------+-------------+-----+\n",
            "|         0|1122|1380|      0|       0|  94|           919|       3819|          4374|              4475|             3|         3578|         5099|    0|\n",
            "+----------+----+----+-------+--------+----+--------------+-----------+--------------+------------------+--------------+-------------+-------------+-----+\n",
            "\n"
          ]
        }
      ]
    },
    {
      "cell_type": "markdown",
      "metadata": {
        "id": "lsqH7IH6_2U_"
      },
      "source": [
        "# Data preprocessing"
      ]
    },
    {
      "cell_type": "markdown",
      "metadata": {
        "id": "09H0zG72AEh7"
      },
      "source": [
        "Kindly fill the nulls in the **deceased_date** with the **released_date**"
      ]
    },
    {
      "cell_type": "code",
      "execution_count": 18,
      "metadata": {
        "id": "eDlY0fl7WvSg"
      },
      "outputs": [],
      "source": [
        "from pyspark.sql.functions import coalesce\n",
        "patient = patient.withColumn(\"deceased_date\",coalesce(patient.deceased_date,patient.released_date))"
      ]
    },
    {
      "cell_type": "markdown",
      "metadata": {
        "id": "_ix95wvMgi_7"
      },
      "source": [
        "Drop values having a null deceased_date"
      ]
    },
    {
      "cell_type": "code",
      "execution_count": 19,
      "metadata": {
        "colab": {
          "base_uri": "https://localhost:8080/"
        },
        "id": "SsEfnv__gsPe",
        "outputId": "546ef073-9caf-48b5-e6ff-c089901509e0"
      },
      "outputs": [
        {
          "output_type": "stream",
          "name": "stdout",
          "text": [
            "+----------+------+---+-------+--------+------------+--------------------+-----------+--------------+------------------+--------------+-------------+-------------+--------+\n",
            "|patient_id|   sex|age|country|province|        city|      infection_case|infected_by|contact_number|symptom_onset_date|confirmed_date|released_date|deceased_date|   state|\n",
            "+----------+------+---+-------+--------+------------+--------------------+-----------+--------------+------------------+--------------+-------------+-------------+--------+\n",
            "|1000000001|  male|50s|  Korea|   Seoul|  Gangseo-gu|     overseas inflow|       null|            75|        2020-01-22|    2020-01-23|   2020-02-05|   2020-02-05|released|\n",
            "|1000000002|  male|30s|  Korea|   Seoul| Jungnang-gu|     overseas inflow|       null|            31|              null|    2020-01-30|   2020-03-02|   2020-03-02|released|\n",
            "|1000000003|  male|50s|  Korea|   Seoul|   Jongno-gu|contact with patient| 2002000001|            17|              null|    2020-01-30|   2020-02-19|   2020-02-19|released|\n",
            "|1000000004|  male|20s|  Korea|   Seoul|     Mapo-gu|     overseas inflow|       null|             9|        2020-01-26|    2020-01-30|   2020-02-15|   2020-02-15|released|\n",
            "|1000000005|female|20s|  Korea|   Seoul| Seongbuk-gu|contact with patient| 1000000002|             2|              null|    2020-01-31|   2020-02-24|   2020-02-24|released|\n",
            "|1000000006|female|50s|  Korea|   Seoul|   Jongno-gu|contact with patient| 1000000003|            43|              null|    2020-01-31|   2020-02-19|   2020-02-19|released|\n",
            "|1000000007|  male|20s|  Korea|   Seoul|   Jongno-gu|contact with patient| 1000000003|             0|              null|    2020-01-31|   2020-02-10|   2020-02-10|released|\n",
            "|1000000008|  male|20s|  Korea|   Seoul|         etc|     overseas inflow|       null|             0|              null|    2020-02-02|   2020-02-24|   2020-02-24|released|\n",
            "|1000000009|  male|30s|  Korea|   Seoul|   Songpa-gu|     overseas inflow|       null|            68|              null|    2020-02-05|   2020-02-21|   2020-02-21|released|\n",
            "|1000000010|female|60s|  Korea|   Seoul| Seongbuk-gu|contact with patient| 1000000003|             6|              null|    2020-02-05|   2020-02-29|   2020-02-29|released|\n",
            "|1000000011|female|50s|  China|   Seoul|Seodaemun-gu|     overseas inflow|       null|            23|              null|    2020-02-06|   2020-02-29|   2020-02-29|released|\n",
            "|1000000012|  male|20s|  Korea|   Seoul|         etc|     overseas inflow|       null|             0|              null|    2020-02-07|   2020-02-27|   2020-02-27|released|\n",
            "|1000000014|female|60s|  Korea|   Seoul|   Jongno-gu|contact with patient| 1000000013|            27|        2020-02-06|    2020-02-16|   2020-03-12|   2020-03-12|released|\n",
            "|1000000016|  male|70s|  Korea|   Seoul|   Jongno-gu|contact with patient| 1000000017|          null|              null|    2020-02-19|   2020-03-11|   2020-03-11|released|\n",
            "|1000000017|  male|70s|  Korea|   Seoul|   Jongno-gu|contact with patient| 1000000003|          null|              null|    2020-02-20|   2020-03-01|   2020-03-01|released|\n",
            "|1000000019|female|70s|  Korea|   Seoul|   Jongno-gu|contact with patient| 1000000021|          null|              null|    2020-02-20|   2020-03-08|   2020-03-08|released|\n",
            "|1000000021|  male|80s|  Korea|   Seoul|   Jongno-gu|contact with patient| 1000000016|          null|              null|    2020-02-20|   2020-03-08|   2020-03-08|released|\n",
            "|1000000024|  male|40s|  Korea|   Seoul|     Guro-gu|contact with patient|       null|          null|              null|    2020-02-22|   2020-03-14|   2020-03-14|released|\n",
            "|1000000026|  male|30s|  Korea|   Seoul|   Seocho-gu|                 etc|       null|          null|        2020-02-21|    2020-02-22|   2020-03-11|   2020-03-11|released|\n",
            "|1000000027|  male|50s|  Korea|   Seoul|  Gangseo-gu|     overseas inflow|       null|          null|              null|    2020-02-23|   2020-03-04|   2020-03-04|released|\n",
            "+----------+------+---+-------+--------+------------+--------------------+-----------+--------------+------------------+--------------+-------------+-------------+--------+\n",
            "only showing top 20 rows\n",
            "\n"
          ]
        }
      ],
      "source": [
        "patient = patient.na.drop(subset=['deceased_date'])\n",
        "patient.show()"
      ]
    },
    {
      "cell_type": "markdown",
      "metadata": {
        "id": "3KaM3YJAZ-T_"
      },
      "source": [
        "Add a column named no_days which is difference between the deceased_date and the confirmed_date then show the top 5 rows\n",
        "\n",
        "Hint: You need to typecase these coumns as date first"
      ]
    },
    {
      "cell_type": "code",
      "execution_count": 20,
      "metadata": {
        "colab": {
          "base_uri": "https://localhost:8080/"
        },
        "id": "VWSe-SJDa3iK",
        "outputId": "e9d34d0d-357e-41c3-d83e-6210425c6e2a"
      },
      "outputs": [
        {
          "output_type": "stream",
          "name": "stdout",
          "text": [
            "root\n",
            " |-- patient_id: string (nullable = true)\n",
            " |-- sex: string (nullable = true)\n",
            " |-- age: string (nullable = true)\n",
            " |-- country: string (nullable = true)\n",
            " |-- province: string (nullable = true)\n",
            " |-- city: string (nullable = true)\n",
            " |-- infection_case: string (nullable = true)\n",
            " |-- infected_by: string (nullable = true)\n",
            " |-- contact_number: string (nullable = true)\n",
            " |-- symptom_onset_date: string (nullable = true)\n",
            " |-- confirmed_date: timestamp (nullable = true)\n",
            " |-- released_date: string (nullable = true)\n",
            " |-- deceased_date: timestamp (nullable = true)\n",
            " |-- state: string (nullable = true)\n",
            "\n"
          ]
        }
      ],
      "source": [
        "from pyspark.sql.types import TimestampType\n",
        "patient = patient.withColumn(\"deceased_date\",col(\"deceased_date\").cast(TimestampType())).withColumn(\"confirmed_date\",col(\"confirmed_date\").cast(TimestampType()))\n",
        "patient.printSchema()"
      ]
    },
    {
      "cell_type": "code",
      "execution_count": 21,
      "metadata": {
        "colab": {
          "base_uri": "https://localhost:8080/"
        },
        "id": "T_PCNqPoZs4k",
        "outputId": "b292732d-c945-4bb2-f360-3c5570d3b8c9"
      },
      "outputs": [
        {
          "output_type": "stream",
          "name": "stdout",
          "text": [
            "+----------+------+---+-------+--------+-----------+--------------------+-----------+--------------+------------------+-------------------+-------------+-------------------+--------+-------+\n",
            "|patient_id|   sex|age|country|province|       city|      infection_case|infected_by|contact_number|symptom_onset_date|     confirmed_date|released_date|      deceased_date|   state|no_days|\n",
            "+----------+------+---+-------+--------+-----------+--------------------+-----------+--------------+------------------+-------------------+-------------+-------------------+--------+-------+\n",
            "|1000000001|  male|50s|  Korea|   Seoul| Gangseo-gu|     overseas inflow|       null|            75|        2020-01-22|2020-01-23 00:00:00|   2020-02-05|2020-02-05 00:00:00|released|     13|\n",
            "|1000000002|  male|30s|  Korea|   Seoul|Jungnang-gu|     overseas inflow|       null|            31|              null|2020-01-30 00:00:00|   2020-03-02|2020-03-02 00:00:00|released|     32|\n",
            "|1000000003|  male|50s|  Korea|   Seoul|  Jongno-gu|contact with patient| 2002000001|            17|              null|2020-01-30 00:00:00|   2020-02-19|2020-02-19 00:00:00|released|     20|\n",
            "|1000000004|  male|20s|  Korea|   Seoul|    Mapo-gu|     overseas inflow|       null|             9|        2020-01-26|2020-01-30 00:00:00|   2020-02-15|2020-02-15 00:00:00|released|     16|\n",
            "|1000000005|female|20s|  Korea|   Seoul|Seongbuk-gu|contact with patient| 1000000002|             2|              null|2020-01-31 00:00:00|   2020-02-24|2020-02-24 00:00:00|released|     24|\n",
            "+----------+------+---+-------+--------+-----------+--------------------+-----------+--------------+------------------+-------------------+-------------+-------------------+--------+-------+\n",
            "only showing top 5 rows\n",
            "\n"
          ]
        }
      ],
      "source": [
        "patient = patient.withColumn(\"no_days\",datediff(col(\"deceased_date\"),col(\"confirmed_date\")))\n",
        "patient.show(5)"
      ]
    },
    {
      "cell_type": "markdown",
      "metadata": {
        "id": "i_kUjsyrdKIY"
      },
      "source": [
        "Add a **is_male** column if male then it should yield 1, else then 0 and show your dataframe"
      ]
    },
    {
      "cell_type": "code",
      "execution_count": 22,
      "metadata": {
        "colab": {
          "base_uri": "https://localhost:8080/"
        },
        "id": "dOhiOlLW_w7c",
        "outputId": "071e1197-9129-4b6d-a9b8-670a75783843"
      },
      "outputs": [
        {
          "output_type": "stream",
          "name": "stdout",
          "text": [
            "+----------+------+---+-------+--------+-----------+--------------------+-----------+--------------+------------------+-------------------+-------------+-------------------+--------+-------+-------+\n",
            "|patient_id|   sex|age|country|province|       city|      infection_case|infected_by|contact_number|symptom_onset_date|     confirmed_date|released_date|      deceased_date|   state|no_days|is_male|\n",
            "+----------+------+---+-------+--------+-----------+--------------------+-----------+--------------+------------------+-------------------+-------------+-------------------+--------+-------+-------+\n",
            "|1000000001|  male|50s|  Korea|   Seoul| Gangseo-gu|     overseas inflow|       null|            75|        2020-01-22|2020-01-23 00:00:00|   2020-02-05|2020-02-05 00:00:00|released|     13|      1|\n",
            "|1000000002|  male|30s|  Korea|   Seoul|Jungnang-gu|     overseas inflow|       null|            31|              null|2020-01-30 00:00:00|   2020-03-02|2020-03-02 00:00:00|released|     32|      1|\n",
            "|1000000003|  male|50s|  Korea|   Seoul|  Jongno-gu|contact with patient| 2002000001|            17|              null|2020-01-30 00:00:00|   2020-02-19|2020-02-19 00:00:00|released|     20|      1|\n",
            "|1000000004|  male|20s|  Korea|   Seoul|    Mapo-gu|     overseas inflow|       null|             9|        2020-01-26|2020-01-30 00:00:00|   2020-02-15|2020-02-15 00:00:00|released|     16|      1|\n",
            "|1000000005|female|20s|  Korea|   Seoul|Seongbuk-gu|contact with patient| 1000000002|             2|              null|2020-01-31 00:00:00|   2020-02-24|2020-02-24 00:00:00|released|     24|      0|\n",
            "+----------+------+---+-------+--------+-----------+--------------------+-----------+--------------+------------------+-------------------+-------------+-------------------+--------+-------+-------+\n",
            "only showing top 5 rows\n",
            "\n"
          ]
        }
      ],
      "source": [
        "patient = patient.withColumn(\"is_male\",when((col(\"sex\") == 'male'),lit(1)).otherwise(lit(0)))\n",
        "patient.show(5)"
      ]
    },
    {
      "cell_type": "markdown",
      "metadata": {
        "id": "sxw7aTZLlZ6q"
      },
      "source": [
        "Add a **is_dead** column if patient state is released then make it 1, else 0 and show your dataframe"
      ]
    },
    {
      "cell_type": "code",
      "execution_count": 23,
      "metadata": {
        "colab": {
          "base_uri": "https://localhost:8080/"
        },
        "id": "rmB4ykRDlag-",
        "outputId": "7b689f66-2a39-4037-f8f2-778422a400c8"
      },
      "outputs": [
        {
          "output_type": "stream",
          "name": "stdout",
          "text": [
            "+----------+------+---+-------+--------+-----------+--------------------+-----------+--------------+------------------+-------------------+-------------+-------------------+--------+-------+-------+-------+\n",
            "|patient_id|   sex|age|country|province|       city|      infection_case|infected_by|contact_number|symptom_onset_date|     confirmed_date|released_date|      deceased_date|   state|no_days|is_male|is_dead|\n",
            "+----------+------+---+-------+--------+-----------+--------------------+-----------+--------------+------------------+-------------------+-------------+-------------------+--------+-------+-------+-------+\n",
            "|1000000001|  male|50s|  Korea|   Seoul| Gangseo-gu|     overseas inflow|       null|            75|        2020-01-22|2020-01-23 00:00:00|   2020-02-05|2020-02-05 00:00:00|released|     13|      1|      0|\n",
            "|1000000002|  male|30s|  Korea|   Seoul|Jungnang-gu|     overseas inflow|       null|            31|              null|2020-01-30 00:00:00|   2020-03-02|2020-03-02 00:00:00|released|     32|      1|      0|\n",
            "|1000000003|  male|50s|  Korea|   Seoul|  Jongno-gu|contact with patient| 2002000001|            17|              null|2020-01-30 00:00:00|   2020-02-19|2020-02-19 00:00:00|released|     20|      1|      0|\n",
            "|1000000004|  male|20s|  Korea|   Seoul|    Mapo-gu|     overseas inflow|       null|             9|        2020-01-26|2020-01-30 00:00:00|   2020-02-15|2020-02-15 00:00:00|released|     16|      1|      0|\n",
            "|1000000005|female|20s|  Korea|   Seoul|Seongbuk-gu|contact with patient| 1000000002|             2|              null|2020-01-31 00:00:00|   2020-02-24|2020-02-24 00:00:00|released|     24|      0|      0|\n",
            "+----------+------+---+-------+--------+-----------+--------------------+-----------+--------------+------------------+-------------------+-------------+-------------------+--------+-------+-------+-------+\n",
            "only showing top 5 rows\n",
            "\n"
          ]
        }
      ],
      "source": [
        "patient = patient.withColumn(\"is_dead\",when((col(\"state\") == 'deceased'),lit(1)).otherwise(lit(0)))\n",
        "patient.show(5)"
      ]
    },
    {
      "cell_type": "code",
      "source": [
        "patient.printSchema()"
      ],
      "metadata": {
        "colab": {
          "base_uri": "https://localhost:8080/"
        },
        "id": "uldwKRj1Aq0r",
        "outputId": "1fccfad8-64c2-4d6e-9288-83cd62878e09"
      },
      "execution_count": 24,
      "outputs": [
        {
          "output_type": "stream",
          "name": "stdout",
          "text": [
            "root\n",
            " |-- patient_id: string (nullable = true)\n",
            " |-- sex: string (nullable = true)\n",
            " |-- age: string (nullable = true)\n",
            " |-- country: string (nullable = true)\n",
            " |-- province: string (nullable = true)\n",
            " |-- city: string (nullable = true)\n",
            " |-- infection_case: string (nullable = true)\n",
            " |-- infected_by: string (nullable = true)\n",
            " |-- contact_number: string (nullable = true)\n",
            " |-- symptom_onset_date: string (nullable = true)\n",
            " |-- confirmed_date: timestamp (nullable = true)\n",
            " |-- released_date: string (nullable = true)\n",
            " |-- deceased_date: timestamp (nullable = true)\n",
            " |-- state: string (nullable = true)\n",
            " |-- no_days: integer (nullable = true)\n",
            " |-- is_male: integer (nullable = false)\n",
            " |-- is_dead: integer (nullable = false)\n",
            "\n"
          ]
        }
      ]
    },
    {
      "cell_type": "markdown",
      "metadata": {
        "id": "loZJsbP2qYPL"
      },
      "source": [
        "Kindly change the ages to bins from 10s, 0s, 10s, 20s,.etc to 0,10, 20 and show your dataframe"
      ]
    },
    {
      "cell_type": "code",
      "execution_count": 25,
      "metadata": {
        "colab": {
          "base_uri": "https://localhost:8080/"
        },
        "id": "7JD4ZUiOCHnG",
        "outputId": "27f824d7-d1cd-49ad-8485-1d0948edd616"
      },
      "outputs": [
        {
          "output_type": "stream",
          "name": "stdout",
          "text": [
            "+----------+------+----+-------+--------+-----------+--------------------+-----------+--------------+------------------+-------------------+-------------+-------------------+--------+-------+-------+-------+\n",
            "|patient_id|   sex| age|country|province|       city|      infection_case|infected_by|contact_number|symptom_onset_date|     confirmed_date|released_date|      deceased_date|   state|no_days|is_male|is_dead|\n",
            "+----------+------+----+-------+--------+-----------+--------------------+-----------+--------------+------------------+-------------------+-------------+-------------------+--------+-------+-------+-------+\n",
            "|1000000001|  male|50.0|  Korea|   Seoul| Gangseo-gu|     overseas inflow|       null|            75|        2020-01-22|2020-01-23 00:00:00|   2020-02-05|2020-02-05 00:00:00|released|     13|      1|      0|\n",
            "|1000000002|  male|30.0|  Korea|   Seoul|Jungnang-gu|     overseas inflow|       null|            31|              null|2020-01-30 00:00:00|   2020-03-02|2020-03-02 00:00:00|released|     32|      1|      0|\n",
            "|1000000003|  male|50.0|  Korea|   Seoul|  Jongno-gu|contact with patient| 2002000001|            17|              null|2020-01-30 00:00:00|   2020-02-19|2020-02-19 00:00:00|released|     20|      1|      0|\n",
            "|1000000004|  male|20.0|  Korea|   Seoul|    Mapo-gu|     overseas inflow|       null|             9|        2020-01-26|2020-01-30 00:00:00|   2020-02-15|2020-02-15 00:00:00|released|     16|      1|      0|\n",
            "|1000000005|female|20.0|  Korea|   Seoul|Seongbuk-gu|contact with patient| 1000000002|             2|              null|2020-01-31 00:00:00|   2020-02-24|2020-02-24 00:00:00|released|     24|      0|      0|\n",
            "+----------+------+----+-------+--------+-----------+--------------------+-----------+--------------+------------------+-------------------+-------------+-------------------+--------+-------+-------+-------+\n",
            "only showing top 5 rows\n",
            "\n"
          ]
        }
      ],
      "source": [
        "from pyspark.sql.types import DoubleType\n",
        "patient = patient.withColumn(\"age\",regexp_replace(col(\"age\"),'s',''))\n",
        "patient = patient.withColumn(\"age\",col(\"age\").cast(DoubleType()))\n",
        "patient.show(5)"
      ]
    },
    {
      "cell_type": "markdown",
      "metadata": {
        "id": "A07bYRRKsT7g"
      },
      "source": [
        "Repeat the same, but for the **no_days** return the numbers only and show your dataframe"
      ]
    },
    {
      "cell_type": "markdown",
      "metadata": {
        "id": "_9zZ0Ollt92F"
      },
      "source": [
        "Print the schema"
      ]
    },
    {
      "cell_type": "code",
      "execution_count": 26,
      "metadata": {
        "colab": {
          "base_uri": "https://localhost:8080/"
        },
        "id": "1jPrMWwStnHw",
        "outputId": "eb6b9b29-5bd8-43f9-cb5b-8ed8c2fbfde4"
      },
      "outputs": [
        {
          "output_type": "stream",
          "name": "stdout",
          "text": [
            "root\n",
            " |-- patient_id: string (nullable = true)\n",
            " |-- sex: string (nullable = true)\n",
            " |-- age: double (nullable = true)\n",
            " |-- country: string (nullable = true)\n",
            " |-- province: string (nullable = true)\n",
            " |-- city: string (nullable = true)\n",
            " |-- infection_case: string (nullable = true)\n",
            " |-- infected_by: string (nullable = true)\n",
            " |-- contact_number: string (nullable = true)\n",
            " |-- symptom_onset_date: string (nullable = true)\n",
            " |-- confirmed_date: timestamp (nullable = true)\n",
            " |-- released_date: string (nullable = true)\n",
            " |-- deceased_date: timestamp (nullable = true)\n",
            " |-- state: string (nullable = true)\n",
            " |-- no_days: integer (nullable = true)\n",
            " |-- is_male: integer (nullable = false)\n",
            " |-- is_dead: integer (nullable = false)\n",
            "\n"
          ]
        }
      ],
      "source": [
        "patient.printSchema()"
      ]
    },
    {
      "cell_type": "markdown",
      "metadata": {
        "id": "sUk48CI9uAc4"
      },
      "source": [
        "**age** and **no_days** need to be typecasted as Double"
      ]
    },
    {
      "cell_type": "code",
      "execution_count": 27,
      "metadata": {
        "id": "Oj4c9GBPuAGo"
      },
      "outputs": [],
      "source": [
        "patient = patient.withColumn(\"no_days\",col(\"no_days\").cast(DoubleType()))"
      ]
    },
    {
      "cell_type": "markdown",
      "metadata": {
        "id": "sL15kFx2zErj"
      },
      "source": [
        "reprint the schema to check:"
      ]
    },
    {
      "cell_type": "code",
      "execution_count": 28,
      "metadata": {
        "colab": {
          "base_uri": "https://localhost:8080/"
        },
        "id": "SNSzlraFvK21",
        "outputId": "5ddf9779-8b3b-4e28-eceb-5c99bd87a05e"
      },
      "outputs": [
        {
          "output_type": "stream",
          "name": "stdout",
          "text": [
            "root\n",
            " |-- patient_id: string (nullable = true)\n",
            " |-- sex: string (nullable = true)\n",
            " |-- age: double (nullable = true)\n",
            " |-- country: string (nullable = true)\n",
            " |-- province: string (nullable = true)\n",
            " |-- city: string (nullable = true)\n",
            " |-- infection_case: string (nullable = true)\n",
            " |-- infected_by: string (nullable = true)\n",
            " |-- contact_number: string (nullable = true)\n",
            " |-- symptom_onset_date: string (nullable = true)\n",
            " |-- confirmed_date: timestamp (nullable = true)\n",
            " |-- released_date: string (nullable = true)\n",
            " |-- deceased_date: timestamp (nullable = true)\n",
            " |-- state: string (nullable = true)\n",
            " |-- no_days: double (nullable = true)\n",
            " |-- is_male: integer (nullable = false)\n",
            " |-- is_dead: integer (nullable = false)\n",
            "\n"
          ]
        }
      ],
      "source": [
        "patient.printSchema()"
      ]
    },
    {
      "cell_type": "markdown",
      "metadata": {
        "id": "LUFNsvsNsbYj"
      },
      "source": [
        "Kindly drop the columns below\n",
        "\n",
        " [\"patient_id\",\"sex\",\"infected_by\",\"contact_number\",\"released_date\",\"state\",\"symptom_onset_date\",\"confirmed_date\",\"deceased_date\",\"country\",\"no_days\",\"city\",\"infection_case\"]"
      ]
    },
    {
      "cell_type": "code",
      "source": [
        "patient = patient.drop(\"patient_id\",\"sex\",\"infected_by\",\"contact_number\",\"released_date\",\"state\",\"symptom_onset_date\",\"confirmed_date\",\"deceased_date\",\"country\",\"no_days\",\"city\",\"infection_case\")\n",
        "patient.show()"
      ],
      "metadata": {
        "colab": {
          "base_uri": "https://localhost:8080/"
        },
        "id": "tRMB-vz1K8t4",
        "outputId": "77bef3c3-7883-4101-f059-213649f77143"
      },
      "execution_count": 32,
      "outputs": [
        {
          "output_type": "stream",
          "name": "stdout",
          "text": [
            "+----+--------+-------+-------+\n",
            "| age|province|is_male|is_dead|\n",
            "+----+--------+-------+-------+\n",
            "|50.0|   Seoul|      1|      0|\n",
            "|30.0|   Seoul|      1|      0|\n",
            "|50.0|   Seoul|      1|      0|\n",
            "|20.0|   Seoul|      1|      0|\n",
            "|20.0|   Seoul|      0|      0|\n",
            "|50.0|   Seoul|      0|      0|\n",
            "|20.0|   Seoul|      1|      0|\n",
            "|20.0|   Seoul|      1|      0|\n",
            "|30.0|   Seoul|      1|      0|\n",
            "|60.0|   Seoul|      0|      0|\n",
            "|50.0|   Seoul|      0|      0|\n",
            "|20.0|   Seoul|      1|      0|\n",
            "|60.0|   Seoul|      0|      0|\n",
            "|70.0|   Seoul|      1|      0|\n",
            "|70.0|   Seoul|      1|      0|\n",
            "|70.0|   Seoul|      0|      0|\n",
            "|80.0|   Seoul|      1|      0|\n",
            "|40.0|   Seoul|      1|      0|\n",
            "|30.0|   Seoul|      1|      0|\n",
            "|50.0|   Seoul|      1|      0|\n",
            "+----+--------+-------+-------+\n",
            "only showing top 20 rows\n",
            "\n"
          ]
        }
      ]
    },
    {
      "cell_type": "markdown",
      "metadata": {
        "id": "r54snirNshqD"
      },
      "source": [
        "Please recount the number of nulls now"
      ]
    },
    {
      "cell_type": "code",
      "execution_count": 35,
      "metadata": {
        "colab": {
          "base_uri": "https://localhost:8080/"
        },
        "id": "lEoIdqvqa_au",
        "outputId": "ce420ecf-1bee-4137-b9ef-4c377046de0c"
      },
      "outputs": [
        {
          "output_type": "stream",
          "name": "stdout",
          "text": [
            "+---+--------+-------+-------+\n",
            "|age|province|is_male|is_dead|\n",
            "+---+--------+-------+-------+\n",
            "| 11|       0|      0|      0|\n",
            "+---+--------+-------+-------+\n",
            "\n"
          ]
        }
      ],
      "source": [
        "patient.select([count(when(isnan(c) | col(c).isNull(), c)).alias(c) for c in patient.columns]).show()\n"
      ]
    },
    {
      "cell_type": "markdown",
      "metadata": {
        "id": "7sB2bOl_sobE"
      },
      "source": [
        "We will handle the null values next lab using imputer, look it up if you would like.\n",
        "\n",
        "Best of luck dears 🤩🤩🤩\n",
        "\n",
        "If you have any questions you can reach out to me:\n",
        "\n",
        "### Omar Hammad\n",
        "#### Software Engineer\n",
        "##### Email: ommar365@gmail.com\n",
        "##### Phone: 01144070145\n",
        "##### Linkedin: https://www.linkedin.com/in/omar-a-hammad"
      ]
    }
  ],
  "metadata": {
    "colab": {
      "collapsed_sections": [
        "n3LYFm-ri2hF",
        "AzqgDiSuph9_"
      ],
      "name": "Aya Hassan - Practical_Session_1_G2.ipynb",
      "provenance": []
    },
    "interpreter": {
      "hash": "88c20d94c3ccb95a2b509e813ebf492254ea19b385d94460a52d10d9823f687f"
    },
    "kernelspec": {
      "display_name": "Python 3.9.10 ('2022.1.0')",
      "language": "python",
      "name": "python3"
    },
    "language_info": {
      "codemirror_mode": {
        "name": "ipython",
        "version": 3
      },
      "file_extension": ".py",
      "mimetype": "text/x-python",
      "name": "python",
      "nbconvert_exporter": "python",
      "pygments_lexer": "ipython3",
      "version": "3.9.10"
    }
  },
  "nbformat": 4,
  "nbformat_minor": 0
}